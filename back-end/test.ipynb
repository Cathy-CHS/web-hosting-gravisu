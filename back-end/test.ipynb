{
 "cells": [
  {
   "cell_type": "code",
   "execution_count": 6,
   "metadata": {},
   "outputs": [],
   "source": [
    "from new_utils import find_last_conv_layer, preprocess_image, show_imgwithheat, new_grad_cam_plus, load_class, renew_model, renew_make_gradcam\n",
    "\n",
    "# 필요사항 : \n",
    "user_images_folder = f\"/Users/user-jiseung/Documents/graduate/CS492/web-hosting-gravisu/image\"\n",
    "model_folder = f\"/Users/user-jiseung/Documents/graduate/CS492/web-hosting-gravisu/model\" # tf_keras_vgg16_mura_model.h5\n",
    "save_heatmap = f\"./heatmap\"\n",
    "\n"
   ]
  },
  {
   "cell_type": "code",
   "execution_count": 7,
   "metadata": {},
   "outputs": [],
   "source": [
    "# # when model update, 1) renew model_location folder, 2) return model_location \n",
    "model_location = renew_model(model_folder) "
   ]
  },
  {
   "cell_type": "code",
   "execution_count": 8,
   "metadata": {},
   "outputs": [
    {
     "data": {
      "text/plain": [
       "'/Users/user-jiseung/Documents/graduate/CS492/web-hosting-gravisu/model/test_model.h5'"
      ]
     },
     "execution_count": 8,
     "metadata": {},
     "output_type": "execute_result"
    }
   ],
   "source": [
    "model_location"
   ]
  },
  {
   "cell_type": "code",
   "execution_count": 9,
   "metadata": {},
   "outputs": [
    {
     "name": "stdout",
     "output_type": "stream",
     "text": [
      "WARNING:tensorflow:No training configuration found in the save file, so the model was *not* compiled. Compile it manually.\n"
     ]
    }
   ],
   "source": [
    "# 1) renew save_heatmap folder \n",
    "# 2) make gradcam & save heatmap in save_heatmap forlder\n",
    "# 3) return data_df which record infomation about data_df\n",
    "data_df = renew_make_gradcam(model_location, user_images_folder, save_heatmap)\n"
   ]
  },
  {
   "cell_type": "code",
   "execution_count": 10,
   "metadata": {},
   "outputs": [
    {
     "data": {
      "text/html": [
       "<div>\n",
       "<style scoped>\n",
       "    .dataframe tbody tr th:only-of-type {\n",
       "        vertical-align: middle;\n",
       "    }\n",
       "\n",
       "    .dataframe tbody tr th {\n",
       "        vertical-align: top;\n",
       "    }\n",
       "\n",
       "    .dataframe thead th {\n",
       "        text-align: right;\n",
       "    }\n",
       "</style>\n",
       "<table border=\"1\" class=\"dataframe\">\n",
       "  <thead>\n",
       "    <tr style=\"text-align: right;\">\n",
       "      <th></th>\n",
       "      <th>id</th>\n",
       "      <th>img_name</th>\n",
       "      <th>img_path</th>\n",
       "      <th>prediction</th>\n",
       "      <th>heatmap_path</th>\n",
       "    </tr>\n",
       "  </thead>\n",
       "  <tbody>\n",
       "    <tr>\n",
       "      <th>0</th>\n",
       "      <td>1</td>\n",
       "      <td>dog5.png</td>\n",
       "      <td>/Users/user-jiseung/Documents/graduate/CS492/w...</td>\n",
       "      <td>0</td>\n",
       "      <td>./heatmap/dog5.png</td>\n",
       "    </tr>\n",
       "    <tr>\n",
       "      <th>1</th>\n",
       "      <td>2</td>\n",
       "      <td>dog10.png</td>\n",
       "      <td>/Users/user-jiseung/Documents/graduate/CS492/w...</td>\n",
       "      <td>2</td>\n",
       "      <td>./heatmap/dog10.png</td>\n",
       "    </tr>\n",
       "    <tr>\n",
       "      <th>2</th>\n",
       "      <td>3</td>\n",
       "      <td>dog11.png</td>\n",
       "      <td>/Users/user-jiseung/Documents/graduate/CS492/w...</td>\n",
       "      <td>2</td>\n",
       "      <td>./heatmap/dog11.png</td>\n",
       "    </tr>\n",
       "    <tr>\n",
       "      <th>3</th>\n",
       "      <td>4</td>\n",
       "      <td>dog4.png</td>\n",
       "      <td>/Users/user-jiseung/Documents/graduate/CS492/w...</td>\n",
       "      <td>0</td>\n",
       "      <td>./heatmap/dog4.png</td>\n",
       "    </tr>\n",
       "    <tr>\n",
       "      <th>4</th>\n",
       "      <td>5</td>\n",
       "      <td>dog6.png</td>\n",
       "      <td>/Users/user-jiseung/Documents/graduate/CS492/w...</td>\n",
       "      <td>2</td>\n",
       "      <td>./heatmap/dog6.png</td>\n",
       "    </tr>\n",
       "    <tr>\n",
       "      <th>5</th>\n",
       "      <td>6</td>\n",
       "      <td>dog13.png</td>\n",
       "      <td>/Users/user-jiseung/Documents/graduate/CS492/w...</td>\n",
       "      <td>2</td>\n",
       "      <td>./heatmap/dog13.png</td>\n",
       "    </tr>\n",
       "    <tr>\n",
       "      <th>6</th>\n",
       "      <td>7</td>\n",
       "      <td>dog12.png</td>\n",
       "      <td>/Users/user-jiseung/Documents/graduate/CS492/w...</td>\n",
       "      <td>2</td>\n",
       "      <td>./heatmap/dog12.png</td>\n",
       "    </tr>\n",
       "    <tr>\n",
       "      <th>7</th>\n",
       "      <td>8</td>\n",
       "      <td>dog7.png</td>\n",
       "      <td>/Users/user-jiseung/Documents/graduate/CS492/w...</td>\n",
       "      <td>0</td>\n",
       "      <td>./heatmap/dog7.png</td>\n",
       "    </tr>\n",
       "    <tr>\n",
       "      <th>8</th>\n",
       "      <td>9</td>\n",
       "      <td>dog3.png</td>\n",
       "      <td>/Users/user-jiseung/Documents/graduate/CS492/w...</td>\n",
       "      <td>2</td>\n",
       "      <td>./heatmap/dog3.png</td>\n",
       "    </tr>\n",
       "    <tr>\n",
       "      <th>9</th>\n",
       "      <td>10</td>\n",
       "      <td>dog2.png</td>\n",
       "      <td>/Users/user-jiseung/Documents/graduate/CS492/w...</td>\n",
       "      <td>0</td>\n",
       "      <td>./heatmap/dog2.png</td>\n",
       "    </tr>\n",
       "    <tr>\n",
       "      <th>10</th>\n",
       "      <td>11</td>\n",
       "      <td>dog1.png</td>\n",
       "      <td>/Users/user-jiseung/Documents/graduate/CS492/w...</td>\n",
       "      <td>2</td>\n",
       "      <td>./heatmap/dog1.png</td>\n",
       "    </tr>\n",
       "    <tr>\n",
       "      <th>11</th>\n",
       "      <td>12</td>\n",
       "      <td>dog9.png</td>\n",
       "      <td>/Users/user-jiseung/Documents/graduate/CS492/w...</td>\n",
       "      <td>0</td>\n",
       "      <td>./heatmap/dog9.png</td>\n",
       "    </tr>\n",
       "    <tr>\n",
       "      <th>12</th>\n",
       "      <td>13</td>\n",
       "      <td>dog8.png</td>\n",
       "      <td>/Users/user-jiseung/Documents/graduate/CS492/w...</td>\n",
       "      <td>2</td>\n",
       "      <td>./heatmap/dog8.png</td>\n",
       "    </tr>\n",
       "  </tbody>\n",
       "</table>\n",
       "</div>"
      ],
      "text/plain": [
       "    id   img_name                                           img_path  \\\n",
       "0    1   dog5.png  /Users/user-jiseung/Documents/graduate/CS492/w...   \n",
       "1    2  dog10.png  /Users/user-jiseung/Documents/graduate/CS492/w...   \n",
       "2    3  dog11.png  /Users/user-jiseung/Documents/graduate/CS492/w...   \n",
       "3    4   dog4.png  /Users/user-jiseung/Documents/graduate/CS492/w...   \n",
       "4    5   dog6.png  /Users/user-jiseung/Documents/graduate/CS492/w...   \n",
       "5    6  dog13.png  /Users/user-jiseung/Documents/graduate/CS492/w...   \n",
       "6    7  dog12.png  /Users/user-jiseung/Documents/graduate/CS492/w...   \n",
       "7    8   dog7.png  /Users/user-jiseung/Documents/graduate/CS492/w...   \n",
       "8    9   dog3.png  /Users/user-jiseung/Documents/graduate/CS492/w...   \n",
       "9   10   dog2.png  /Users/user-jiseung/Documents/graduate/CS492/w...   \n",
       "10  11   dog1.png  /Users/user-jiseung/Documents/graduate/CS492/w...   \n",
       "11  12   dog9.png  /Users/user-jiseung/Documents/graduate/CS492/w...   \n",
       "12  13   dog8.png  /Users/user-jiseung/Documents/graduate/CS492/w...   \n",
       "\n",
       "    prediction         heatmap_path  \n",
       "0            0   ./heatmap/dog5.png  \n",
       "1            2  ./heatmap/dog10.png  \n",
       "2            2  ./heatmap/dog11.png  \n",
       "3            0   ./heatmap/dog4.png  \n",
       "4            2   ./heatmap/dog6.png  \n",
       "5            2  ./heatmap/dog13.png  \n",
       "6            2  ./heatmap/dog12.png  \n",
       "7            0   ./heatmap/dog7.png  \n",
       "8            2   ./heatmap/dog3.png  \n",
       "9            0   ./heatmap/dog2.png  \n",
       "10           2   ./heatmap/dog1.png  \n",
       "11           0   ./heatmap/dog9.png  \n",
       "12           2   ./heatmap/dog8.png  "
      ]
     },
     "execution_count": 10,
     "metadata": {},
     "output_type": "execute_result"
    }
   ],
   "source": [
    "data_df"
   ]
  },
  {
   "cell_type": "code",
   "execution_count": 11,
   "metadata": {},
   "outputs": [],
   "source": [
    "# when pick class, load random 4 infomation \n",
    "selected_n, random_selected_rows = load_class(data_df, 2)\n"
   ]
  },
  {
   "cell_type": "code",
   "execution_count": 6,
   "metadata": {},
   "outputs": [
    {
     "data": {
      "text/html": [
       "<div>\n",
       "<style scoped>\n",
       "    .dataframe tbody tr th:only-of-type {\n",
       "        vertical-align: middle;\n",
       "    }\n",
       "\n",
       "    .dataframe tbody tr th {\n",
       "        vertical-align: top;\n",
       "    }\n",
       "\n",
       "    .dataframe thead th {\n",
       "        text-align: right;\n",
       "    }\n",
       "</style>\n",
       "<table border=\"1\" class=\"dataframe\">\n",
       "  <thead>\n",
       "    <tr style=\"text-align: right;\">\n",
       "      <th></th>\n",
       "      <th>id</th>\n",
       "      <th>img_name</th>\n",
       "      <th>img_path</th>\n",
       "      <th>prediction</th>\n",
       "      <th>heatmap_path</th>\n",
       "    </tr>\n",
       "  </thead>\n",
       "  <tbody>\n",
       "    <tr>\n",
       "      <th>0</th>\n",
       "      <td>1</td>\n",
       "      <td>dog1.png</td>\n",
       "      <td>C:/Users/user/Desktop/assignment/image/dog1.png</td>\n",
       "      <td>2</td>\n",
       "      <td>./heatmap/dog1.png</td>\n",
       "    </tr>\n",
       "    <tr>\n",
       "      <th>6</th>\n",
       "      <td>7</td>\n",
       "      <td>dog3.png</td>\n",
       "      <td>C:/Users/user/Desktop/assignment/image/dog3.png</td>\n",
       "      <td>2</td>\n",
       "      <td>./heatmap/dog3.png</td>\n",
       "    </tr>\n",
       "    <tr>\n",
       "      <th>11</th>\n",
       "      <td>12</td>\n",
       "      <td>dog8.png</td>\n",
       "      <td>C:/Users/user/Desktop/assignment/image/dog8.png</td>\n",
       "      <td>2</td>\n",
       "      <td>./heatmap/dog8.png</td>\n",
       "    </tr>\n",
       "    <tr>\n",
       "      <th>4</th>\n",
       "      <td>5</td>\n",
       "      <td>dog13.png</td>\n",
       "      <td>C:/Users/user/Desktop/assignment/image/dog13.png</td>\n",
       "      <td>2</td>\n",
       "      <td>./heatmap/dog13.png</td>\n",
       "    </tr>\n",
       "  </tbody>\n",
       "</table>\n",
       "</div>"
      ],
      "text/plain": [
       "    id   img_name                                          img_path   \n",
       "0    1   dog1.png   C:/Users/user/Desktop/assignment/image/dog1.png  \\\n",
       "6    7   dog3.png   C:/Users/user/Desktop/assignment/image/dog3.png   \n",
       "11  12   dog8.png   C:/Users/user/Desktop/assignment/image/dog8.png   \n",
       "4    5  dog13.png  C:/Users/user/Desktop/assignment/image/dog13.png   \n",
       "\n",
       "    prediction         heatmap_path  \n",
       "0            2   ./heatmap/dog1.png  \n",
       "6            2   ./heatmap/dog3.png  \n",
       "11           2   ./heatmap/dog8.png  \n",
       "4            2  ./heatmap/dog13.png  "
      ]
     },
     "execution_count": 6,
     "metadata": {},
     "output_type": "execute_result"
    }
   ],
   "source": [
    "random_selected_rows"
   ]
  }
 ],
 "metadata": {
  "kernelspec": {
   "display_name": "Python 3",
   "language": "python",
   "name": "python3"
  },
  "language_info": {
   "codemirror_mode": {
    "name": "ipython",
    "version": 3
   },
   "file_extension": ".py",
   "mimetype": "text/x-python",
   "name": "python",
   "nbconvert_exporter": "python",
   "pygments_lexer": "ipython3",
   "version": "3.11.6"
  }
 },
 "nbformat": 4,
 "nbformat_minor": 2
}
