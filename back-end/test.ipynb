{
 "cells": [
  {
   "cell_type": "code",
   "execution_count": 1,
   "metadata": {},
   "outputs": [
    {
     "name": "stderr",
     "output_type": "stream",
     "text": [
      "c:\\Users\\user\\.conda\\envs\\lavis\\lib\\site-packages\\tqdm\\auto.py:21: TqdmWarning: IProgress not found. Please update jupyter and ipywidgets. See https://ipywidgets.readthedocs.io/en/stable/user_install.html\n",
      "  from .autonotebook import tqdm as notebook_tqdm\n"
     ]
    }
   ],
   "source": [
    "\n",
    "from new_utils import renew_model, renew_make_gradcam\n",
    "\n",
    "# 필요사항 : \n",
    "user_images_folder = f\"C:/Users/user/Desktop/assignment/image\"\n",
    "model_folder = f\"C:/Users/user/Desktop/assignment/model\" # tf_keras_vgg16_mura_model.h5\n",
    "save_heatmap = f\"./heatmap\"\n",
    "\n",
    "csv_location = f\"./test.csv\"\n",
    "# 임의의 white image \n",
    "white_image_loc = f\"C:/Users/user/Desktop/assignment/white.png\"\n"
   ]
  },
  {
   "cell_type": "code",
   "execution_count": 2,
   "metadata": {},
   "outputs": [],
   "source": [
    "# # when model update, 1) renew model_location folder, 2) return model_location \n",
    "model_location = renew_model(model_folder) "
   ]
  },
  {
   "cell_type": "code",
   "execution_count": 3,
   "metadata": {},
   "outputs": [
    {
     "name": "stdout",
     "output_type": "stream",
     "text": [
      "WARNING:tensorflow:No training configuration found in the save file, so the model was *not* compiled. Compile it manually.\n"
     ]
    }
   ],
   "source": [
    "# 1) renew save_heatmap folder \n",
    "# 2) make gradcam & save heatmap in save_heatmap forlder\n",
    "# 3) return data_df which record infomation about data_df\n",
    "\n",
    "# converted 를 하는데 시간이 많이 걸리네. \n",
    "\n",
    "renew_make_gradcam(model_location, user_images_folder, save_heatmap, csv_location)\n"
   ]
  },
  {
   "cell_type": "code",
   "execution_count": 4,
   "metadata": {},
   "outputs": [],
   "source": [
    "import pandas as pd \n",
    "dataframe = pd.read_csv(csv_location)\n"
   ]
  },
  {
   "cell_type": "code",
   "execution_count": 5,
   "metadata": {},
   "outputs": [
    {
     "data": {
      "text/html": [
       "<div>\n",
       "<style scoped>\n",
       "    .dataframe tbody tr th:only-of-type {\n",
       "        vertical-align: middle;\n",
       "    }\n",
       "\n",
       "    .dataframe tbody tr th {\n",
       "        vertical-align: top;\n",
       "    }\n",
       "\n",
       "    .dataframe thead th {\n",
       "        text-align: right;\n",
       "    }\n",
       "</style>\n",
       "<table border=\"1\" class=\"dataframe\">\n",
       "  <thead>\n",
       "    <tr style=\"text-align: right;\">\n",
       "      <th></th>\n",
       "      <th>id</th>\n",
       "      <th>img_name</th>\n",
       "      <th>img_path</th>\n",
       "      <th>prediction</th>\n",
       "      <th>heatmap_path</th>\n",
       "      <th>image_caption</th>\n",
       "      <th>column_id</th>\n",
       "    </tr>\n",
       "  </thead>\n",
       "  <tbody>\n",
       "    <tr>\n",
       "      <th>0</th>\n",
       "      <td>1</td>\n",
       "      <td>dog1.png</td>\n",
       "      <td>C:/Users/user/Desktop/assignment/image/convert...</td>\n",
       "      <td>3</td>\n",
       "      <td>./heatmap/dog1.png</td>\n",
       "      <td>a golden retriever is sitting in the grass</td>\n",
       "      <td>1</td>\n",
       "    </tr>\n",
       "    <tr>\n",
       "      <th>1</th>\n",
       "      <td>2</td>\n",
       "      <td>dog10.png</td>\n",
       "      <td>C:/Users/user/Desktop/assignment/image/convert...</td>\n",
       "      <td>1</td>\n",
       "      <td>./heatmap/dog10.png</td>\n",
       "      <td>a small white puppy running through the grass</td>\n",
       "      <td>1</td>\n",
       "    </tr>\n",
       "    <tr>\n",
       "      <th>2</th>\n",
       "      <td>3</td>\n",
       "      <td>dog2.png</td>\n",
       "      <td>C:/Users/user/Desktop/assignment/image/convert...</td>\n",
       "      <td>1</td>\n",
       "      <td>./heatmap/dog2.png</td>\n",
       "      <td>a close up of a dog with its tongue out</td>\n",
       "      <td>1</td>\n",
       "    </tr>\n",
       "    <tr>\n",
       "      <th>3</th>\n",
       "      <td>4</td>\n",
       "      <td>dog3.png</td>\n",
       "      <td>C:/Users/user/Desktop/assignment/image/convert...</td>\n",
       "      <td>1</td>\n",
       "      <td>./heatmap/dog3.png</td>\n",
       "      <td>a golden retriever sitting on a white background</td>\n",
       "      <td>1</td>\n",
       "    </tr>\n",
       "    <tr>\n",
       "      <th>4</th>\n",
       "      <td>5</td>\n",
       "      <td>dog4.png</td>\n",
       "      <td>C:/Users/user/Desktop/assignment/image/convert...</td>\n",
       "      <td>3</td>\n",
       "      <td>./heatmap/dog4.png</td>\n",
       "      <td>a couple of puppies laying on top of each other</td>\n",
       "      <td>1</td>\n",
       "    </tr>\n",
       "    <tr>\n",
       "      <th>5</th>\n",
       "      <td>6</td>\n",
       "      <td>dog5.png</td>\n",
       "      <td>C:/Users/user/Desktop/assignment/image/convert...</td>\n",
       "      <td>3</td>\n",
       "      <td>./heatmap/dog5.png</td>\n",
       "      <td>a close up of a dog sitting on a sidewalk</td>\n",
       "      <td>1</td>\n",
       "    </tr>\n",
       "    <tr>\n",
       "      <th>6</th>\n",
       "      <td>7</td>\n",
       "      <td>dog6.png</td>\n",
       "      <td>C:/Users/user/Desktop/assignment/image/convert...</td>\n",
       "      <td>1</td>\n",
       "      <td>./heatmap/dog6.png</td>\n",
       "      <td>a puppy is sitting on a white background</td>\n",
       "      <td>1</td>\n",
       "    </tr>\n",
       "    <tr>\n",
       "      <th>7</th>\n",
       "      <td>8</td>\n",
       "      <td>dog7.png</td>\n",
       "      <td>C:/Users/user/Desktop/assignment/image/convert...</td>\n",
       "      <td>1</td>\n",
       "      <td>./heatmap/dog7.png</td>\n",
       "      <td>a brown and white dog standing on top of a lus...</td>\n",
       "      <td>2</td>\n",
       "    </tr>\n",
       "    <tr>\n",
       "      <th>8</th>\n",
       "      <td>9</td>\n",
       "      <td>dog8.png</td>\n",
       "      <td>C:/Users/user/Desktop/assignment/image/convert...</td>\n",
       "      <td>1</td>\n",
       "      <td>./heatmap/dog8.png</td>\n",
       "      <td>a white dog on a leash being walked by a man</td>\n",
       "      <td>2</td>\n",
       "    </tr>\n",
       "    <tr>\n",
       "      <th>9</th>\n",
       "      <td>10</td>\n",
       "      <td>dog9.png</td>\n",
       "      <td>C:/Users/user/Desktop/assignment/image/convert...</td>\n",
       "      <td>1</td>\n",
       "      <td>./heatmap/dog9.png</td>\n",
       "      <td>a close up of a dog with a collar</td>\n",
       "      <td>2</td>\n",
       "    </tr>\n",
       "  </tbody>\n",
       "</table>\n",
       "</div>"
      ],
      "text/plain": [
       "   id   img_name                                           img_path  \\\n",
       "0   1   dog1.png  C:/Users/user/Desktop/assignment/image/convert...   \n",
       "1   2  dog10.png  C:/Users/user/Desktop/assignment/image/convert...   \n",
       "2   3   dog2.png  C:/Users/user/Desktop/assignment/image/convert...   \n",
       "3   4   dog3.png  C:/Users/user/Desktop/assignment/image/convert...   \n",
       "4   5   dog4.png  C:/Users/user/Desktop/assignment/image/convert...   \n",
       "5   6   dog5.png  C:/Users/user/Desktop/assignment/image/convert...   \n",
       "6   7   dog6.png  C:/Users/user/Desktop/assignment/image/convert...   \n",
       "7   8   dog7.png  C:/Users/user/Desktop/assignment/image/convert...   \n",
       "8   9   dog8.png  C:/Users/user/Desktop/assignment/image/convert...   \n",
       "9  10   dog9.png  C:/Users/user/Desktop/assignment/image/convert...   \n",
       "\n",
       "   prediction         heatmap_path  \\\n",
       "0           3   ./heatmap/dog1.png   \n",
       "1           1  ./heatmap/dog10.png   \n",
       "2           1   ./heatmap/dog2.png   \n",
       "3           1   ./heatmap/dog3.png   \n",
       "4           3   ./heatmap/dog4.png   \n",
       "5           3   ./heatmap/dog5.png   \n",
       "6           1   ./heatmap/dog6.png   \n",
       "7           1   ./heatmap/dog7.png   \n",
       "8           1   ./heatmap/dog8.png   \n",
       "9           1   ./heatmap/dog9.png   \n",
       "\n",
       "                                       image_caption  column_id  \n",
       "0         a golden retriever is sitting in the grass          1  \n",
       "1      a small white puppy running through the grass          1  \n",
       "2            a close up of a dog with its tongue out          1  \n",
       "3   a golden retriever sitting on a white background          1  \n",
       "4    a couple of puppies laying on top of each other          1  \n",
       "5          a close up of a dog sitting on a sidewalk          1  \n",
       "6           a puppy is sitting on a white background          1  \n",
       "7  a brown and white dog standing on top of a lus...          2  \n",
       "8       a white dog on a leash being walked by a man          2  \n",
       "9                  a close up of a dog with a collar          2  "
      ]
     },
     "execution_count": 5,
     "metadata": {},
     "output_type": "execute_result"
    }
   ],
   "source": [
    "dataframe"
   ]
  },
  {
   "cell_type": "code",
   "execution_count": 12,
   "metadata": {},
   "outputs": [
    {
     "data": {
      "text/plain": [
       "'C:/Users/user/Desktop/assignment/image/hitgoram_/histogram_1.png'"
      ]
     },
     "execution_count": 12,
     "metadata": {},
     "output_type": "execute_result"
    },
    {
     "data": {
      "image/png": "[encoded data removed]",
      "text/plain": [
       "<Figure size 1200x600 with 1 Axes>"
      ]
     },
     "metadata": {},
     "output_type": "display_data"
    }
   ],
   "source": [
    "from collections import Counter\n",
    "import matplotlib.pyplot as plt\n",
    "import pandas as pd \n",
    "import os \n",
    "import shutil\n",
    "\n",
    "\n",
    "# save_folder\n",
    "def visual_histogram(class_id, csv_location, save_folder=None) : \n",
    "    if save_folder is not None : \n",
    "        if os.path.exists(save_folder): shutil.rmtree(save_folder)\n",
    "        os.makedirs(save_folder)\n",
    "        save_path = f\"{save_folder}/histogram_{class_id}.png\"\n",
    "\n",
    "    dataframe = pd.read_csv(csv_location)\n",
    "    filtered_df = dataframe[dataframe['prediction'] == class_id]\n",
    "    if len(filtered_df) == 0 : \n",
    "        \n",
    "        print(\"No data in this class\")\n",
    "        return \n",
    "\n",
    "    result_image_caption = filtered_df['image_caption'].tolist()\n",
    "\n",
    "    # 무시할 단어 목록 (예: 관사, 조사) 설정하기 \n",
    "    ignore_words = [\"a\", \"an\", \"the\", \"of\", \"in\", \"on\", \"with\", \"and\", \"is\"]\n",
    "\n",
    "    all_words = ' '.join(result_image_caption).split()\n",
    "\n",
    "    # 각 단어의 빈도를 계산하며 무시할 단어는 제외합니다.\n",
    "    word_frequencies = Counter(word for word in all_words if word not in ignore_words)\n",
    "\n",
    "    # 빈도 수가 상위 10개인 값만 가져오기 \n",
    "\n",
    "    top_words = word_frequencies.most_common(10)\n",
    "\n",
    "    words = [word for word, freq in top_words]\n",
    "    frequencies = [freq for word, freq in top_words]\n",
    "\n",
    "    # 히스토그램 생성\n",
    "    plt.figure(figsize=(12, 6))\n",
    "    plt.bar(words, frequencies)\n",
    "    plt.xlabel('Words')\n",
    "    plt.ylabel('Frequency')\n",
    "    plt.xticks(rotation=45)\n",
    "\n",
    "    if save_folder is None :\n",
    "        plt.show()\n",
    "    else :\n",
    "        plt.savefig(save_path, bbox_inches='tight')\n",
    "    \n",
    "    return save_path\n",
    "\n",
    "\n",
    "test_folder = os.path.join(user_images_folder, 'hitgoram_').replace('\\\\', '/')\n",
    "visual_histogram(1, csv_location, test_folder)\n"
   ]
  },
  {
   "cell_type": "code",
   "execution_count": 16,
   "metadata": {},
   "outputs": [
    {
     "data": {
      "text/plain": [
       "2"
      ]
     },
     "execution_count": 16,
     "metadata": {},
     "output_type": "execute_result"
    }
   ],
   "source": [
    "max(dataframe['column_id'].tolist())"
   ]
  }
 ],
 "metadata": {
  "kernelspec": {
   "display_name": "Python 3",
   "language": "python",
   "name": "python3"
  },
  "language_info": {
   "codemirror_mode": {
    "name": "ipython",
    "version": 3
   },
   "file_extension": ".py",
   "mimetype": "text/x-python",
   "name": "python",
   "nbconvert_exporter": "python",
   "pygments_lexer": "ipython3",
   "version": "3.8.18"
  }
 },
 "nbformat": 4,
 "nbformat_minor": 2
}
